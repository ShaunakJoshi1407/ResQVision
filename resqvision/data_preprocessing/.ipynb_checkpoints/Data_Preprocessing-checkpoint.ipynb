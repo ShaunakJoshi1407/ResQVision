{
 "cells": [
  {
   "cell_type": "code",
   "execution_count": 1,
   "id": "04f60b80-ed9e-40f4-9222-0021d4d3035e",
   "metadata": {},
   "outputs": [],
   "source": [
    "import pandas as pd\n",
    "import json\n",
    "\n",
    "# Load the dataset\n",
    "df = pd.read_csv(\"emergency_service_routing_with_timestamps.csv\")\n",
    "\n",
    "# Parse timestamp column if it's not already parsed\n",
    "df['Timestamp'] = pd.to_datetime(df['Timestamp'])\n",
    "\n",
    "# Extract month-year for time trend analysis\n",
    "df['MonthYear'] = df['Timestamp'].dt.to_period('M').astype(str)\n",
    "\n",
    "# Chart 1: Incident Type vs Count\n",
    "incident_type_counts = (\n",
    "    df.groupby(['Region_Type', 'Incident_Type'])\n",
    "    .size()\n",
    "    .reset_index(name='Count')\n",
    "    .to_dict(orient='records')\n",
    ")\n",
    "\n",
    "# Chart 2: Severity Horizontal Bar\n",
    "severity_counts = (\n",
    "    df.groupby(['Region_Type', 'Incident_Type', 'Incident_Severity'])\n",
    "    .size()\n",
    "    .reset_index(name='Count')\n",
    "    .to_dict(orient='records')\n",
    ")\n",
    "\n",
    "# Chart 3: Incident trends over time\n",
    "incident_trends = (\n",
    "    df.groupby(['Region_Type', 'Incident_Type', 'MonthYear'])\n",
    "    .size()\n",
    "    .reset_index(name='Count')\n",
    "    .to_dict(orient='records')\n",
    ")\n",
    "\n",
    "# Save as JSON files\n",
    "with open('incident_type_counts.json', 'w') as f1:\n",
    "    json.dump(incident_type_counts, f1, indent=2)\n",
    "\n",
    "with open('severity_counts.json', 'w') as f2:\n",
    "    json.dump(severity_counts, f2, indent=2)\n",
    "\n",
    "with open('incident_trends.json', 'w') as f3:\n",
    "    json.dump(incident_trends, f3, indent=2)\n"
   ]
  },
  {
   "cell_type": "code",
   "execution_count": null,
   "id": "2de45ffb-db47-413b-b46c-52db5349e500",
   "metadata": {},
   "outputs": [],
   "source": []
  }
 ],
 "metadata": {
  "kernelspec": {
   "display_name": "Python 3 (ipykernel)",
   "language": "python",
   "name": "python3"
  },
  "language_info": {
   "codemirror_mode": {
    "name": "ipython",
    "version": 3
   },
   "file_extension": ".py",
   "mimetype": "text/x-python",
   "name": "python",
   "nbconvert_exporter": "python",
   "pygments_lexer": "ipython3",
   "version": "3.11.8"
  }
 },
 "nbformat": 4,
 "nbformat_minor": 5
}
