{
 "cells": [
  {
   "cell_type": "code",
   "execution_count": null,
   "id": "68ddf372-d648-452c-9725-4519f1f8a211",
   "metadata": {},
   "outputs": [
    {
     "name": "stdout",
     "output_type": "stream",
     "text": [
      "✅ metrics_summary.json saved to: public/data/metrics_summary.json\n"
     ]
    }
   ],
   "source": [
    "import pandas as pd\n",
    "import os\n",
    "import json\n",
    "\n",
    "# Load your updated dataset\n",
    "input_path = \"emergency_service_routing_with_timestamps.csv\"  # Adjust path if needed\n",
    "df = pd.read_csv(input_path)\n",
    "\n",
    "# Calculate metrics\n",
    "metrics = {\n",
    "    \"unique_emergencies\": df[[\"Incident_Type\", \"Region_Type\", \"Incident_Severity\"]]\n",
    "        .drop_duplicates()\n",
    "        .shape[0],\n",
    "    \"avg_response_time_min\": round(df[\"Response_Time\"].mean(), 1),\n",
    "    \"most_common_incident\": df[\"Incident_Type\"].mode()[0],\n",
    "    \"percent_high_severity\": round((df[\"Incident_Severity\"] == \"High\").mean() * 100, 1),\n",
    "    \"ambulance_availability_rate\": round((df[\"Ambulance_Availability\"] == \"Available\").mean() * 100, 1)\n",
    "}\n",
    "\n",
    "# Create output directory if it doesn't exist\n",
    "output_dir = \"public/data\"\n",
    "os.makedirs(output_dir, exist_ok=True)\n",
    "\n",
    "# Save as JSON\n",
    "output_file = os.path.join(output_dir, \"metrics_summary.json\")\n",
    "with open(output_file, \"w\") as f:\n",
    "    json.dump(metrics, f, indent=2)\n",
    "\n",
    "print(\"metrics_summary.json saved to:\", output_file)\n"
   ]
  },
  {
   "cell_type": "code",
   "execution_count": null,
   "id": "1fcb32c8",
   "metadata": {},
   "outputs": [],
   "source": []
  }
 ],
 "metadata": {
  "kernelspec": {
   "display_name": "Python 3 (ipykernel)",
   "language": "python",
   "name": "python3"
  },
  "language_info": {
   "codemirror_mode": {
    "name": "ipython",
    "version": 3
   },
   "file_extension": ".py",
   "mimetype": "text/x-python",
   "name": "python",
   "nbconvert_exporter": "python",
   "pygments_lexer": "ipython3",
   "version": "3.11.8"
  }
 },
 "nbformat": 4,
 "nbformat_minor": 5
}
